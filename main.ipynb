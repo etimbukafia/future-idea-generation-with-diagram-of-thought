{
 "cells": [
  {
   "cell_type": "code",
   "execution_count": 12,
   "metadata": {},
   "outputs": [],
   "source": [
    "from pathlib import Path\n",
    "import pymupdf"
   ]
  },
  {
   "cell_type": "code",
   "execution_count": 13,
   "metadata": {},
   "outputs": [],
   "source": [
    "def get_pdf_files(folder_path):\n",
    "    dir_path = Path(folder_path)\n",
    "    pdf_files = list(dir_path.glob(\"*.pdf\"))\n",
    "    return pdf_files"
   ]
  },
  {
   "cell_type": "code",
   "execution_count": 85,
   "metadata": {},
   "outputs": [],
   "source": [
    "def extract_text_from_pdf(pdf_path):\n",
    "    doc = pymupdf.open(pdf_path)\n",
    "    text = \"\"\n",
    "    for page_num in range(doc.page_count):\n",
    "        page = doc.load_page(page_num)\n",
    "        text += page.get_text()\n",
    "    return text"
   ]
  },
  {
   "cell_type": "code",
   "execution_count": 109,
   "metadata": {},
   "outputs": [],
   "source": [
    "def add_extracted_text(file_path):\n",
    "    pdf_files = get_pdf_files(file_path)\n",
    "    text_file = {}\n",
    "    for pdf_file in pdf_files:\n",
    "        file_string = str(pdf_file)\n",
    "        pdf_name = file_string.split('\\\\')[-1]\n",
    "        pdf_identifier = pdf_name.split(\".\")[1]\n",
    "\n",
    "        extracted_text = extract_text_from_pdf(pdf_file)\n",
    "        text_file[pdf_identifier] = extracted_text\n",
    "        print(f\"Text from {pdf_file} added into {pdf_identifier}\")\n",
    "\n",
    "    print(\"Completed text extraction\")\n",
    "    return text_file\n",
    "    "
   ]
  },
  {
   "cell_type": "code",
   "execution_count": null,
   "metadata": {},
   "outputs": [],
   "source": []
  }
 ],
 "metadata": {
  "kernelspec": {
   "display_name": "resume-search",
   "language": "python",
   "name": "python3"
  },
  "language_info": {
   "codemirror_mode": {
    "name": "ipython",
    "version": 3
   },
   "file_extension": ".py",
   "mimetype": "text/x-python",
   "name": "python",
   "nbconvert_exporter": "python",
   "pygments_lexer": "ipython3",
   "version": "3.11.1"
  }
 },
 "nbformat": 4,
 "nbformat_minor": 2
}
