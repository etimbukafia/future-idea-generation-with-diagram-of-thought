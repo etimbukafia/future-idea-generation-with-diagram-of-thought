{
 "cells": [
  {
   "cell_type": "code",
   "execution_count": 12,
   "metadata": {},
   "outputs": [],
   "source": [
    "from pathlib import Path\n",
    "import pymupdf"
   ]
  },
  {
   "cell_type": "code",
   "execution_count": 13,
   "metadata": {},
   "outputs": [],
   "source": [
    "def get_pdf_files(folder_path):\n",
    "    dir_path = Path(folder_path)\n",
    "    pdf_files = list(dir_path.glob(\"*.pdf\"))\n",
    "    return pdf_files"
   ]
  },
  {
   "cell_type": "code",
   "execution_count": 85,
   "metadata": {},
   "outputs": [],
   "source": [
    "def extract_text_from_pdf(pdf_path):\n",
    "    doc = pymupdf.open(pdf_path)\n",
    "    text = \"\"\n",
    "    for page_num in range(doc.page_count):\n",
    "        page = doc.load_page(page_num)\n",
    "        text += page.get_text()\n",
    "    return text"
   ]
  },
  {
   "cell_type": "code",
   "execution_count": 86,
   "metadata": {},
   "outputs": [],
   "source": [
    "path = 'C:/Users/j/.vscode/Resume_search/novelIdeas/data'\n",
    "pdf_files = get_pdf_files(path)"
   ]
  },
  {
   "cell_type": "code",
   "execution_count": 54,
   "metadata": {},
   "outputs": [],
   "source": [
    "files = []\n",
    "for file in pdf_files:\n",
    "    file_string = str(file)\n",
    "    pdf_name = file_string.split('\\\\')[-1]\n",
    "    pdf_identfier = pdf_name.split(\".\")[1]\n",
    "    files.append(pdf_identfier)"
   ]
  },
  {
   "cell_type": "code",
   "execution_count": 64,
   "metadata": {},
   "outputs": [
    {
     "name": "stdout",
     "output_type": "stream",
     "text": [
      "\n"
     ]
    }
   ],
   "source": [
    "text_file = {file: \"\" for file in files}"
   ]
  },
  {
   "cell_type": "code",
   "execution_count": 83,
   "metadata": {},
   "outputs": [
    {
     "data": {
      "text/plain": [
       "[WindowsPath('C:/Users/j/.vscode/Resume_search/novelIdeas/data/2409.10031v1.pdf'),\n",
       " WindowsPath('C:/Users/j/.vscode/Resume_search/novelIdeas/data/2409.10949v1.pdf'),\n",
       " WindowsPath('C:/Users/j/.vscode/Resume_search/novelIdeas/data/2409.11303v1.pdf'),\n",
       " WindowsPath('C:/Users/j/.vscode/Resume_search/novelIdeas/data/2409.11409v1.pdf'),\n",
       " WindowsPath('C:/Users/j/.vscode/Resume_search/novelIdeas/data/2409.13142v1.pdf')]"
      ]
     },
     "execution_count": 83,
     "metadata": {},
     "output_type": "execute_result"
    }
   ],
   "source": [
    "pdf_files"
   ]
  },
  {
   "cell_type": "code",
   "execution_count": 89,
   "metadata": {},
   "outputs": [
    {
     "name": "stdout",
     "output_type": "stream",
     "text": [
      "Text from C:\\Users\\j\\.vscode\\Resume_search\\novelIdeas\\data\\2409.10031v1.pdf\n",
      "Text from C:\\Users\\j\\.vscode\\Resume_search\\novelIdeas\\data\\2409.10949v1.pdf\n",
      "Text from C:\\Users\\j\\.vscode\\Resume_search\\novelIdeas\\data\\2409.11303v1.pdf\n",
      "Text from C:\\Users\\j\\.vscode\\Resume_search\\novelIdeas\\data\\2409.11409v1.pdf\n",
      "Text from C:\\Users\\j\\.vscode\\Resume_search\\novelIdeas\\data\\2409.13142v1.pdf\n"
     ]
    }
   ],
   "source": [
    "for pdf_file in pdf_files:\n",
    "    text = extract_text_from_pdf(pdf_file)\n",
    "    print(f\"Text from {pdf_file}\")\n",
    "    "
   ]
  },
  {
   "cell_type": "code",
   "execution_count": 88,
   "metadata": {},
   "outputs": [
    {
     "data": {
      "text/plain": [
       "73391"
      ]
     },
     "execution_count": 88,
     "metadata": {},
     "output_type": "execute_result"
    }
   ],
   "source": [
    "len(text)"
   ]
  }
 ],
 "metadata": {
  "kernelspec": {
   "display_name": "resume-search",
   "language": "python",
   "name": "python3"
  },
  "language_info": {
   "codemirror_mode": {
    "name": "ipython",
    "version": 3
   },
   "file_extension": ".py",
   "mimetype": "text/x-python",
   "name": "python",
   "nbconvert_exporter": "python",
   "pygments_lexer": "ipython3",
   "version": "3.11.1"
  }
 },
 "nbformat": 4,
 "nbformat_minor": 2
}
