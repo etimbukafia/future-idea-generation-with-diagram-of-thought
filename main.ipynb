{
 "cells": [
  {
   "cell_type": "code",
   "execution_count": 215,
   "metadata": {},
   "outputs": [],
   "source": [
    "from langchain.chains import create_retrieval_chain\n",
    "from langchain.chains.combine_documents import create_stuff_documents_chain\n",
    "from langchain_chroma import Chroma\n",
    "from langchain_core.prompts import ChatPromptTemplate\n",
    "from langchain_text_splitters import RecursiveCharacterTextSplitter\n",
    "import os\n",
    "import getpass\n",
    "from langchain_fireworks import ChatFireworks\n",
    "from langchain_community.document_loaders import PyPDFDirectoryLoader\n",
    "from langchain_huggingface import HuggingFaceEmbeddings\n",
    "from pathlib import Path"
   ]
  },
  {
   "cell_type": "code",
   "execution_count": 212,
   "metadata": {},
   "outputs": [],
   "source": [
    "os.environ[\"FIREWORKS_API_KEY\"] = getpass.getpass()"
   ]
  },
  {
   "cell_type": "code",
   "execution_count": 213,
   "metadata": {},
   "outputs": [],
   "source": [
    "MODEL_ID = \"accounts/fireworks/models/llama-v3p1-405b-instruct\"\n",
    "fireworks_llm = ChatFireworks(\n",
    "    model=MODEL_ID,\n",
    "    temperature = 0.6,\n",
    "    max_tokens = 16384,\n",
    "    model_kwargs={\n",
    "        \"top_p\": 1,\n",
    "    },\n",
    "    cache=None,\n",
    ")"
   ]
  },
  {
   "cell_type": "code",
   "execution_count": 214,
   "metadata": {},
   "outputs": [
    {
     "name": "stderr",
     "output_type": "stream",
     "text": [
      "c:\\Users\\j\\.vscode\\Resume_search\\resume-search\\Lib\\site-packages\\transformers\\tokenization_utils_base.py:1601: FutureWarning: `clean_up_tokenization_spaces` was not set. It will be set to `True` by default. This behavior will be depracted in transformers v4.45, and will be then set to `False` by default. For more details check this issue: https://github.com/huggingface/transformers/issues/31884\n",
      "  warnings.warn(\n"
     ]
    }
   ],
   "source": [
    "model_name = \"sentence-transformers/all-MiniLM-L6-v2\"\n",
    "model_kwargs = {'device': 'cpu'}\n",
    "encode_kwargs = {'normalize_embeddings': False}\n",
    "hfEmbedding = HuggingFaceEmbeddings(\n",
    "    model_name=model_name,\n",
    "    model_kwargs=model_kwargs,\n",
    "    encode_kwargs=encode_kwargs\n",
    ")"
   ]
  },
  {
   "cell_type": "code",
   "execution_count": 216,
   "metadata": {},
   "outputs": [],
   "source": [
    "folderPath = Path.cwd() / \"data\"\n",
    "loader = PyPDFDirectoryLoader(folderPath)"
   ]
  },
  {
   "cell_type": "code",
   "execution_count": 217,
   "metadata": {},
   "outputs": [],
   "source": [
    "docs = loader.load()\n",
    "text_splitter = RecursiveCharacterTextSplitter(chunk_size=1024, chunk_overlap=200)\n",
    "splits = text_splitter.split_documents(docs)"
   ]
  },
  {
   "cell_type": "code",
   "execution_count": 162,
   "metadata": {},
   "outputs": [],
   "source": [
    "vectorstore = Chroma.from_documents(documents=splits, embedding=hfEmbedding)\n",
    "retriever = vectorstore.as_retriever()"
   ]
  },
  {
   "cell_type": "code",
   "execution_count": 168,
   "metadata": {},
   "outputs": [],
   "source": [
    "system_prompt = (\n",
    "    \"\"\"\n",
    "    Innovation is seeing what everybody has seen and thinking what nobody has thought.\n",
    "    An idea is nothing more nor less than a new combination of old elements. \n",
    "    It can be a thought or suggestion aimed at solving a problem or exploring a possibility.\n",
    "    Ideas challenge, shift paradigms, and drive innovation by synthesizing information, reflection, and imagination. \n",
    "    As a research scientist, your role is to generate new ideas and innovations based on a research paper.\"\"\"\n",
    "    \"\\n\\n\"\n",
    "    \"{context}\"\n",
    ")"
   ]
  },
  {
   "cell_type": "code",
   "execution_count": 178,
   "metadata": {},
   "outputs": [],
   "source": [
    "human_prompt = (\n",
    "    \"\"\"\n",
    "    You are a research scientist following the Diagram of Thought (DoT) framework to generate ideas from a research paper. Your workflow will transition through three roles: Proposer, Critic, and Summarizer.\n",
    "    \n",
    "    **1. <Proposer>:** \n",
    "    - **Process**: Analyze the research paper on the topic: {input}\n",
    "    - **Reflect**: Examine prior knowledge, look for patterns, and break down complex concepts. Critically assess assumptions and concepts to gain insights.\n",
    "    - **Imagine**: Use the insights to brainstorm new ideas and generate novel concepts or solutions beyond what is already known. Store these in a list called 'Idea list.'\n",
    "    - **Output**: 'Idea list' = {{proposed_ideas}}\n",
    "    - If no ideas are generated or {{proposed_ideas}} is empty, respond with: \"No ideas proposed.\"\n",
    "\n",
    "    **2. <Critic>**:\n",
    "    - **Evaluate Relevancy**: Ensure the ideas in {{proposed_ideas}} are relevant to the research paper. An idea is not relevant if it seems unrelated to the research the paper. An idea is relevant if it aligns with the research paper. Remove irrelevant ideas from {{proposed_ideas}}, creating {{relevant_ideas}}.\n",
    "    - **Evaluate Novelty**: Assess the originality/novelty of the ideas in {{relevant_ideas}}. An idea is not novel if it is generic, already exists, or has already been explored by numerous researchers. An idea is novel if it represents a good direction, highly innovative, and has been explored by only few or no researchers. Remove unnoriginal ideas from {{relevant_ideas}}, resulting in {{novel_ideas}}.\n",
    "    - **Evaluate Feasiblity**: Review {{novel_ideas}} for factual correctness and practicality. An idea is not feasible if it doesn't make any sense, impractical, or not realistic. An idea is feasible if it is practical and realistic even to a minimal degree. Remove any unrealistic or impractical ideas from {{novel_ideas}}, creating {{refined_ideas}}.\n",
    "    - If {{refined_ideas}} is empty after the critique process, respond with: \"No ideas after critique.\".\n",
    "    \n",
    "    **3. <Summarizer>**:\n",
    "    - Synthesize the remaining ideas from {{refined_ideas}} and write a concise summary for each idea in bullet points.  Begin the summary with: \"Potential top future research ideas from the paper are:\"\n",
    "\n",
    "    \"\\n\\n\"\n",
    "    \"{input}\"\n",
    "    \"\"\"\n",
    ")"
   ]
  },
  {
   "cell_type": "code",
   "execution_count": 179,
   "metadata": {},
   "outputs": [],
   "source": [
    "prompt = ChatPromptTemplate.from_messages(\n",
    "    [\n",
    "        (\"system\", system_prompt),\n",
    "        (\"human\", human_prompt),\n",
    "    ]\n",
    ")"
   ]
  },
  {
   "cell_type": "code",
   "execution_count": 193,
   "metadata": {},
   "outputs": [],
   "source": [
    "idea_generation_chain = create_stuff_documents_chain(fireworks_llm, prompt)"
   ]
  },
  {
   "cell_type": "code",
   "execution_count": 194,
   "metadata": {},
   "outputs": [],
   "source": [
    "idea_retriever_chain = create_retrieval_chain(retriever, idea_generation_chain)"
   ]
  },
  {
   "cell_type": "code",
   "execution_count": 195,
   "metadata": {},
   "outputs": [],
   "source": [
    "response = idea_retriever_chain.invoke({\"input\": \"CyberNFTs: Conceptualizing a decentralized and reward-driven intrusion detection system with ML\"})"
   ]
  },
  {
   "cell_type": "code",
   "execution_count": 204,
   "metadata": {},
   "outputs": [
    {
     "name": "stdout",
     "output_type": "stream",
     "text": [
      "**1. <Proposer>**\n",
      "\n",
      "After analyzing the research paper \"CyberNFTs: Conceptualizing a decentralized and reward-driven intrusion detection system with ML\", I reflected on the concepts and broke down complex ideas to gain insights. Here are some potential ideas that came to mind:\n",
      "\n",
      "* Using blockchain-based systems for decentralized threat intelligence sharing\n",
      "* Developing a machine learning-powered intrusion detection system that leverages cyberNFTs for reward-driven detection\n",
      "* Exploring the application of cyberNFTs in other areas of cybersecurity, such as incident response and threat hunting\n",
      "* Investigating the use of decentralized autonomous organizations (DAOs) for managing and maintaining decentralized intrusion detection systems\n",
      "* Designing a framework for evaluating the effectiveness of decentralized intrusion detection systems in various network environments\n",
      "* Developing a system for detecting and mitigating advanced persistent threats (APTs) using a combination of machine learning and cyberNFTs\n",
      "* Investigating the potential of using cyberNFTs for secure and decentralized data sharing in IoT networks\n",
      "\n",
      "**Output**: 'Idea list' = {proposed_ideas} = 7 ideas\n",
      "\n",
      "**2. <Critic>**\n",
      "\n",
      "Evaluating the relevancy of the proposed ideas, I removed the following ideas that seemed unrelated to the research paper:\n",
      "\n",
      "* Investigating the use of decentralized autonomous organizations (DAOs) for managing and maintaining decentralized intrusion detection systems (while related to decentralization, it's not directly related to the paper's focus on cyberNFTs and intrusion detection)\n",
      "* Designing a framework for evaluating the effectiveness of decentralized intrusion detection systems in various network environments (while relevant to intrusion detection, it's not specific to cyberNFTs)\n",
      "\n",
      "The remaining ideas are relevant to the research paper.\n",
      "\n",
      "Evaluating the novelty of the remaining ideas, I removed the following ideas that are not particularly original or have already been explored:\n",
      "\n",
      "* Using blockchain-based systems for decentralized threat intelligence sharing (while still a relevant area of research, it's not a new idea)\n",
      "* Developing a machine learning-powered intrusion detection system that leverages cyberNFTs for reward-driven detection (this is already the main focus of the research paper)\n",
      "\n",
      "The remaining ideas are novel and represent a good direction for future research.\n",
      "\n",
      "Evaluating the feasibility of the remaining ideas, I removed the following idea that is not practical or realistic:\n",
      "\n",
      "* Developing a system for detecting and mitigating advanced persistent threats (APTs) using a combination of machine learning and cyberNFTs (while an interesting idea, it's a very complex and challenging problem that may not be feasible with current technology)\n",
      "\n",
      "The remaining ideas are feasible and practical.\n",
      "\n",
      "**Output**: 'refined_ideas' = 3 ideas\n",
      "\n",
      "**3. <Summarizer>**\n",
      "\n",
      "Potential top future research ideas from the paper are:\n",
      "\n",
      "* **Exploring the application of cyberNFTs in other areas of cybersecurity, such as incident response and threat hunting**: This idea involves investigating the potential of using cyberNFTs in other areas of cybersecurity beyond intrusion detection. This could include using cyberNFTs to incentivize incident response teams or to track and analyze threat hunting efforts.\n",
      "* **Investigating the potential of using cyberNFTs for secure and decentralized data sharing in IoT networks**: This idea involves exploring the use of cyberNFTs for secure and decentralized data sharing in IoT networks. This could include using cyberNFTs to authenticate and authorize data access in IoT networks.\n",
      "* **Developing a system for secure and decentralized cyberNFT-based threat intelligence sharing**: This idea involves developing a system for secure and decentralized threat intelligence sharing using cyberNFTs. This could include using cyberNFTs to incentivize threat intelligence sharing and to track and analyze threat intelligence data.\n"
     ]
    }
   ],
   "source": [
    "print(response['answer'])"
   ]
  }
 ],
 "metadata": {
  "kernelspec": {
   "display_name": "resume-search",
   "language": "python",
   "name": "python3"
  },
  "language_info": {
   "codemirror_mode": {
    "name": "ipython",
    "version": 3
   },
   "file_extension": ".py",
   "mimetype": "text/x-python",
   "name": "python",
   "nbconvert_exporter": "python",
   "pygments_lexer": "ipython3",
   "version": "3.11.1"
  }
 },
 "nbformat": 4,
 "nbformat_minor": 2
}
